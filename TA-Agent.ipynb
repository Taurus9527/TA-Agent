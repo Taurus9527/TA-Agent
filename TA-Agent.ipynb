{
 "cells": [
  {
   "cell_type": "markdown",
   "metadata": {},
   "source": [
    "本地数据加载"
   ]
  },
  {
   "cell_type": "code",
   "execution_count": null,
   "metadata": {},
   "outputs": [],
   "source": [
    "import os\n",
    "import glob\n",
    "from langchain.document_loaders import TextLoader\n",
    "\n",
    "\n",
    "# 创建一个空列表来存储所有文档\n",
    "documents = []\n",
    "# 获取目录下所有json文件的路径\n",
    "json_files = glob.glob(\"your_path\")\n",
    "# 遍历所有json文件并加载\n",
    "for json_file in json_files:\n",
    "    loader = TextLoader(json_file)\n",
    "    documents_tem = loader.load()\n",
    "    # 将每个文档添加到列表中\n",
    "    documents.extend(documents_tem)"
   ]
  },
  {
   "cell_type": "markdown",
   "metadata": {},
   "source": [
    "文档分割"
   ]
  },
  {
   "cell_type": "code",
   "execution_count": null,
   "metadata": {},
   "outputs": [],
   "source": [
    "# 文档分割\n",
    "from langchain.text_splitter import CharacterTextSplitter\n",
    "# 创建拆分器\n",
    "text_splitter = CharacterTextSplitter(chunk_size=128, chunk_overlap=0)\n",
    "# 拆分文档\n",
    "documents = text_splitter.split_documents(documents)"
   ]
  },
  {
   "cell_type": "markdown",
   "metadata": {},
   "source": [
    "数据向量化&入库"
   ]
  },
  {
   "cell_type": "code",
   "execution_count": null,
   "metadata": {},
   "outputs": [],
   "source": [
    "# 接下来对分割后的数据进行embedding，并写入数据库。这里选用\n",
    "# m3e-base作为embedding模型，向量数据库选用Chroma\n",
    "\n",
    "from langchain.embeddings import HuggingFaceBgeEmbeddings\n",
    "from langchain.vectorstores import Chroma\n",
    "import re\n",
    "import json\n",
    "\n",
    "# embedding model: m3e-base\n",
    "model_name = \"your_path\"\n",
    "model_kwargs = {'device': 'cpu'}\n",
    "encode_kwargs = {'normalize_embeddings': True}\n",
    "embedding = HuggingFaceBgeEmbeddings(\n",
    "                model_name=model_name,\n",
    "                model_kwargs=model_kwargs,\n",
    "                encode_kwargs=encode_kwargs,\n",
    "                query_instruction=\"为文本生成向量表示用于文本检索\"\n",
    "            )\n",
    "\n",
    "# load data to Chroma db\n",
    "db_tem = Chroma.from_documents(documents, embedding)"
   ]
  },
  {
   "cell_type": "markdown",
   "metadata": {},
   "source": [
    "构建生成函数"
   ]
  },
  {
   "cell_type": "code",
   "execution_count": null,
   "metadata": {},
   "outputs": [],
   "source": [
    "import requests\n",
    "# ChatGPT API的URL\n",
    "gpt_api_url = \"******\"\n",
    "# ChatGPT应用名称s\n",
    "app_name = \"******\"\n",
    "\n",
    "def generate(prompt, max_tokens=4096, temperature=0.0, model=\"gpt-4\"):\n",
    "    if model in [\"gpt-3.5-turbo\", \"gpt-4\"]:\n",
    "        task = {\n",
    "            \"app_name\": app_name,\n",
    "            \"data\": {\n",
    "                \"model\": model,\n",
    "                \"max_tokens\": max_tokens,\n",
    "                \"temperature\": temperature,\n",
    "                \"messages\": [{\"role\": \"user\", \"content\": prompt}]\n",
    "            }\n",
    "        }\n",
    "        for retry in range(3):\n",
    "            try:\n",
    "                response = requests.post(gpt_api_url, json=task).json()\n",
    "                content = response['data']['choices'][0]['message']['content']\n",
    "                return content\n",
    "            except Exception as e:\n",
    "                print(f\"API request error: {e}\")\n",
    "                pass\n",
    "        raise Exception(\"Failed to generate\")\n",
    "    \n",
    "    # For older models, use the completion API with max_tokens=1024\n",
    "    params = {\n",
    "        \"model\": model,\n",
    "        \"max_tokens\": min(max_tokens, 1024),\n",
    "        \"temperature\": temperature,\n",
    "        \"prompt\": prompt\n",
    "    }\n",
    "    for retry in range(3):\n",
    "        try:\n",
    "            return openai.Completion.create(**params)[\"choices\"][0][\"text\"]\n",
    "        except:\n",
    "            pass"
   ]
  },
  {
   "cell_type": "markdown",
   "metadata": {},
   "source": [
    "生成  Task Planning"
   ]
  },
  {
   "cell_type": "code",
   "execution_count": null,
   "metadata": {},
   "outputs": [],
   "source": [
    "input_query = '''Write a description of the apartment \"Lovely Room 1, Garden, Best Area, Legal rental\" and specify how much it costs to stay there for a month!'''\n",
    "REACT_INSTRUCTION = \"\"\"You're an AI assistant who needs to help users with complex question. We can start by breaking this problem down into simple tasks. Solve a question answering task with interleaving Thought, Action, Observation steps. Thought can reason about the current situation, and Actions: \n",
    "You may take as many steps as necessary.\n",
    "Here are some examples:\n",
    "Question: Write an announcement about housing in the apartment \"Skylit Midtown Castle\" and specify how much it costs for a month's stay.\n",
    "Thought 1: I need to break down the question into sub-tasks.\n",
    "Action 1: Decompose[question]\n",
    "Observation 1: \\nTask_1:I need to inquire about the apartment \"Skylit Midtown Castle\".\\nTask_2:Get the price of the apartment for one night or one month from the info. If it's for one night, multiply the unit price by thirty. \\nTask_3:Write a housing announcement and give one month's rent based on the referenced information.\n",
    "Thought 2: I need to fix Task_1 first.Read the table in path \"/raid/shnu/MTM/Tool_Iteration/data/airbnb/Airbnb_Open_Data.xlsx\" to get the information of \"Skylit Midtown Castle\". Maybe I can solve this with the above Python code, or I can write a python program to solve this problem, and the field name is \"NAME\". The number of fields for its related information is large, and I hope it is possible to print all the information. And would like to add this line of code \"pd.options.display.max_columns = 50\".\n",
    "Action 2: Get[Tool] Or Maker[Tool]\n",
    "Observation 2: ans_Tool_1\n",
    "Thought 3: Now use the tool to load the path \"/raid/shnu/MTM/Tool_Iteration/data/airbnb/Airbnb_Open_Data.csv\" to get the reference corpus and find the \"Skylit Midtown Castle\" apartment and get information about it. If the tool is not available, recreate the tool.\n",
    "Action 3: Get[knowledge]\n",
    "Observation 3: ans_Knowledge\n",
    "Thought 4: Extract one month's or single day's rent based on the information obtained in the previous step.\n",
    "Action 4: Extract[data]\n",
    "Observation 4: ans_data\n",
    "Thought 5: Search for a calculator tool or write a calculator function in python.\n",
    "Action 5: Get[Tool] Or Maker[Tool]\n",
    "Observation 5: ans_Tool_2\n",
    "Thought 6: Use this function to calculate one month's rent for the apartment \"Skylit Midtown Castle\". If the tool does not solve the task at hand you can try to optimize the tool, but the optimization presupposes that the tool can still have the previous functionality.\n",
    "Action 6: Calculator[Money] Or Refine[Tool]\n",
    "Observation 6: ans_Money\n",
    "Thought 7: Write a notice on housing in the apartment \"Skylit Midtown Castle\" and calculate the monthly rent according to 'ans_Knowledge'.\n",
    "Action 7: Write[Notice]\n",
    "Observation 7: ans_Notice\n",
    "Thought 8: After performing the above steps, the task is completed\n",
    "Action 8: Finish[Task]\n",
    "\n",
    "Question: Write a note about housing in the \"BlissArtsSpace!\" apartments and give a clear idea of how much it costs to stay there for a month.\n",
    "Thought 1: I need to break down the question into sub-tasks.\n",
    "Action 1: Decompose[question]\n",
    "Observation 1: \\nTask_1:I need to inquire about the apartment \"BlissArtsSpace!\".\\nTask_2:Get the price of the apartment for one night or one month from the info. If it's for one night, multiply the unit price by thirty. \\nTask_3:Write a housing announcement and give one month's rent based on the referenced information.\n",
    "Thought 2: I need to fix Task_1 first.Read the table in path \"/raid/shnu/MTM/Tool_Iteration/data/airbnb/Airbnb_Open_Data.csv\" to get the information of \"BlissArtsSpace!\". Maybe I can solve this with the above Python code, or I can write a python program to solve this problem,  and the field name is \"NAME\". The number of fields for its related information is large, and I hope it is possible to print all the information. And would like to add this line of code \"pd.options.display.max_columns = 50\".\n",
    "Action 2: Get[Tool] Or Maker[Tool]\n",
    "Observation 2: ans_Tool_1\n",
    "Thought 3: Now use the tool to load the path \"/raid/shnu/MTM/Tool_Iteration/data/airbnb/Airbnb_Open_Data.csv\" to get the reference corpus and find the \"BlissArtsSpace!\" apartment and get information about it. If the tool is not available, recreate the tool.\n",
    "Action 3: Get[knowledge]\n",
    "Observation 3: ans_Knowledge\n",
    "Thought 4: Extract one month's or single day's rent based on the information obtained in the previous step.\n",
    "Action 4: Extract[data]\n",
    "Observation 4: ans_data\n",
    "Thought 5: Search for a calculator tool or write a calculator function in python.\n",
    "Action 5: Get[Tool] Or Maker[Tool]\n",
    "Observation 5: ans_Tool_2\n",
    "Thought 6: Use this function to calculate one month's rent for the apartment \"BlissArtsSpace!\". If the tool does not solve the task at hand you can try to optimize the tool, but the optimization presupposes that the tool can still have the previous functionality.\n",
    "Action 6: Calculator[Money] Or Refine[Tool]\n",
    "Observation 6: ans_Money\n",
    "Thought 7: Write a notice on housing in the apartment \"BlissArtsSpace!\" and calculate the monthly rent according to 'ans_Knowledge'.\n",
    "Action 7: Write[Notice]\n",
    "Observation 7: ans_Notice\n",
    "Thought 8: After performing the above steps, the task is completed\n",
    "Action 8: Finish[Task]\n",
    "(END OF EXAMPLES)\n",
    "Question: {question}\"\"\"\n",
    "prompt = REACT_INSTRUCTION.format(question=input_query)\n",
    "result_tem = generate(prompt=prompt)\n",
    "result_tem"
   ]
  },
  {
   "cell_type": "markdown",
   "metadata": {},
   "source": [
    "根据子任务生成解决方案"
   ]
  },
  {
   "cell_type": "code",
   "execution_count": null,
   "metadata": {},
   "outputs": [],
   "source": [
    "tool_1_prompt = re.findall(r\"Thought 2:(.*?)\\nAction 2\", result_tem, re.DOTALL)[0]\n",
    "tool_1_result_tem = generate(prompt=tool_1_prompt)\n",
    "tool_1_result_tem"
   ]
  },
  {
   "cell_type": "markdown",
   "metadata": {},
   "source": [
    "使用工具解决子任务"
   ]
  },
  {
   "cell_type": "code",
   "execution_count": null,
   "metadata": {},
   "outputs": [],
   "source": [
    "tool_1_result = re.findall(r\"```python\\n(.*)\\n```\\n\\n\", tool_1_result_tem, re.DOTALL)[0]\n",
    "tool_1_result = tool_1_result.replace(\"\\'\", \"\\\"\")\n",
    "local_vars = {}\n",
    "exec(tool_1_result, globals(),local_vars)\n",
    "data_tem = local_vars['row']"
   ]
  },
  {
   "cell_type": "markdown",
   "metadata": {},
   "source": [
    "根据需要寻找工具"
   ]
  },
  {
   "cell_type": "code",
   "execution_count": null,
   "metadata": {},
   "outputs": [],
   "source": [
    "input_query = \"Search for a calculator tool or write a calculator function in python.\"\n",
    "# similarity search\n",
    "sim_message = db_tem.similarity_search(input_query, k=3)\n",
    "\n",
    "# extracting tool\n",
    "content = re.findall(r\"content(.*?)}\", str(sim_message[0]), re.DOTALL)[-1]\n",
    "wrapper = content.replace(\"\\\\\\\\n\",\"\\n\").replace(\"\\\\\\\\\",\"\\\\\").replace(\"\\\\'\", \"'\")[4:-2]\n",
    "example = re.findall(r\"Use cases:\\n\\n(.*)\", wrapper, re.DOTALL)\n",
    "tool_2_func = re.findall(r\"```python\\n(.*?)\\n```\", wrapper, re.DOTALL)[0]"
   ]
  },
  {
   "cell_type": "markdown",
   "metadata": {},
   "source": [
    "提取价格信息"
   ]
  },
  {
   "cell_type": "code",
   "execution_count": null,
   "metadata": {},
   "outputs": [],
   "source": [
    "ans_data_prompt = \"请你从这些数据：\" + str(data_tem) + \"提取出这间旅店的价格相关信息！，包括“price”、“service”和“minimum nights”！\"\n",
    "ans_data = generate(prompt=ans_data_prompt)\n",
    "ans_data"
   ]
  },
  {
   "cell_type": "markdown",
   "metadata": {},
   "source": [
    "优化并验证工具"
   ]
  },
  {
   "cell_type": "code",
   "execution_count": null,
   "metadata": {},
   "outputs": [],
   "source": [
    "expression_prompt = \"有一个任务是从相关信息中提取表达式，例如：\\n这间旅店的价格相关信息如下：\\n价格（price）：$340\\n服务费（service fee）：$168\\n最少入住晚数（minimum nights）：9.0晚。\\n表达式1：340*30+168;\\n表达式2：340*9+168\\n\" + ans_data\n",
    "expression = generate(prompt=expression_prompt)\n",
    "ans_expression_1 = re.findall(r\"表达式1：(.*);\\n表达式2\", expression, re.DOTALL)\n",
    "ans_expression_2 = re.findall(r\"表达式2：(.*)\", expression, re.DOTALL)\n",
    "\n",
    "for retry in range(3):\n",
    "    try:\n",
    "        tool_2_prompt = tool_2_func + \"\\n\\n\" + \"expression_1 = \" + ans_expression_1[0] + \"\\n\" + \"expression_2 = \" + ans_expression_2[0] + \"\\n\" + \"ans_money_1 = calculator(expression_1)\" + \"\\n\" + \"ans_money_2 = calculator(expression_2)\" + \"\\n\" + \"print(ans_money_1)\" + \"\\n\" + \"print(ans_money_2)\"\n",
    "        local_vars = {}\n",
    "        exec(tool_2_prompt, globals(),local_vars)\n",
    "        ans_money_1 = local_vars['expression_1']\n",
    "        ans_money_2 = local_vars['expression_2']\n",
    "        break\n",
    "    except Exception as e:\n",
    "        print(\"ERROR: failed to generate ans_money！\",e)\n",
    "        tool_2_prompt += \"\\n\" + \"Failed to execute the function due to the error. You can rewrite the entire function to accommodate the new task, but in a way that is compatible with the role of the previous function.\"\n",
    "        tool_2_func_refine = generate(prompt=tool_2_prompt)\n",
    "        print(\"tool_2_func_refine:\", tool_2_func_refine)\n",
    "        tool_2_func = re.findall(r\"```python\\n(.*?)```\", tool_2_func_refine, re.DOTALL)[0]\n",
    "        print(\"tool_2_func:\", tool_2_func)"
   ]
  },
  {
   "cell_type": "markdown",
   "metadata": {},
   "source": [
    "解决子任务"
   ]
  },
  {
   "cell_type": "code",
   "execution_count": null,
   "metadata": {},
   "outputs": [],
   "source": [
    "exec(tool_2_func+\"\\nnum1 = 9\\nnum2 = 3\\noperator = '/'\\nresult = calculator(num1, num2, operator)\\nprint(result)\", globals())"
   ]
  },
  {
   "cell_type": "markdown",
   "metadata": {},
   "source": [
    "生成最终答案"
   ]
  },
  {
   "cell_type": "code",
   "execution_count": null,
   "metadata": {},
   "outputs": [],
   "source": [
    "ans_Description_prompt = '''Write a description on housing in the apartment \"Lovely Room 1, Garden, Best Area, Legal rental\" and calculate the monthly rent according to ''' + str(data_tem) + \"\\n\" + \"one month price: \" + str(ans_money)\n",
    "ans_Description = generate(prompt=ans_Description_prompt)\n",
    "ans_Description"
   ]
  },
  {
   "cell_type": "markdown",
   "metadata": {},
   "source": [
    "整个ReAct过程"
   ]
  },
  {
   "cell_type": "code",
   "execution_count": null,
   "metadata": {},
   "outputs": [],
   "source": [
    "result = \"Question:\" + input_query + \"\\n\" + result_tem.replace(\"ans_Tool_1\",str(tool_1_result)).replace(\"ans_Knowledge\",str(data_tem)).replace(\"ans_data\",str(ans_data)).replace(\"ans_Tool_2\",str(tool_2_func)).replace(\"ans_Money\",str(ans_money)).replace(\"ans_Description\",str(ans_Description))\n",
    "result"
   ]
  }
 ],
 "metadata": {
  "kernelspec": {
   "display_name": "mtm",
   "language": "python",
   "name": "python3"
  },
  "language_info": {
   "codemirror_mode": {
    "name": "ipython",
    "version": 3
   },
   "file_extension": ".py",
   "mimetype": "text/x-python",
   "name": "python",
   "nbconvert_exporter": "python",
   "pygments_lexer": "ipython3",
   "version": "3.10.0"
  }
 },
 "nbformat": 4,
 "nbformat_minor": 2
}
